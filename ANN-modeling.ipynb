{
 "cells": [
  {
   "cell_type": "markdown",
   "id": "86a9c422-72b1-471d-95ce-b1876a878b1d",
   "metadata": {},
   "source": [
    "## XOR művelet egy neuronon"
   ]
  },
  {
   "cell_type": "markdown",
   "id": "73c6ad40-082b-44c3-93c9-fdff2825992f",
   "metadata": {},
   "source": [
    "#### Három bemeneti változón végzett XOR művelet.\n",
    "##### Az összesen $2^3=8$ -on esetből a neuron 5-öt tanul meg, további 3-ra következtet. Mindezt átlagosan 0.8 valószínűséggel helyesen. "
   ]
  },
  {
   "cell_type": "code",
   "execution_count": 1,
   "id": "be1469e3-c827-420e-afda-140ba801c6e3",
   "metadata": {},
   "outputs": [
    {
     "name": "stdout",
     "output_type": "stream",
     "text": [
      "Input: [0 1 0] Output: 1\n",
      "Input: [1 1 0] Output: 0\n",
      "Input: [1 0 0] Output: 1\n"
     ]
    }
   ],
   "source": [
    "import numpy as np\n",
    "\n",
    "# Egy osztály a NEURONunknak\n",
    "class Neuron:\n",
    "    def __init__(self, num_inputs):\n",
    "        # Súlyok inicializálása véletlenszerűen az adott [-0.8; 0.2] intervallumon\n",
    "        self.weights = np.random.uniform(-0.8, 0.2, size=(num_inputs,))\n",
    "        \n",
    "    def activate(self, x):\n",
    "        # Szigmoid aktivációs függvény\n",
    "        return 1 / (1 + np.exp(-x))\n",
    "    \n",
    "    def forward(self, inputs):\n",
    "        # Bemenetek súlyozása\n",
    "        weighted_sum = np.dot(inputs, self.weights)\n",
    "        # Aktivációs függvény alkalmazása\n",
    "        output = self.activate(weighted_sum)\n",
    "        return output\n",
    "\n",
    "# XOR hálózat létrehozása\n",
    "xor_network = Neuron(num_inputs=3)\n",
    "\n",
    "# A hálózat tanításához szükséges adathalmaz\n",
    "training_inputs = np.array([[0, 0, 1],\n",
    "                            [0, 1, 1],\n",
    "                            [1, 0, 1],\n",
    "                            [1, 1, 1],\n",
    "                            [0, 0, 0]])\n",
    "training_outputs = np.array([1, 0, 0, 1, 0])\n",
    "\n",
    "# Tanulás folyamata\n",
    "learning_rate = 0.1\n",
    "for i in range(10000):\n",
    "\n",
    "    # Az új tervezett kimenet kiszámítása\n",
    "    output = xor_network.forward(training_inputs)\n",
    "    \n",
    "    # Hibaszámítás\n",
    "    error = training_outputs - output\n",
    "    \n",
    "    # Súlyok frissítése a hibának és a tanulási rátának megfelelően\n",
    "    adjustment = learning_rate * np.dot(training_inputs.T, error * output * (1 - output))\n",
    "    xor_network.weights += adjustment\n",
    "\n",
    "# Tesztelés olyan új összefüggésekkel amiket még nem látott a rendszer a tanulás folyamán\n",
    "test_inputs = np.array([[0, 1, 0],\n",
    "                        [1, 1, 0],\n",
    "                        [1, 0, 0]])\n",
    "counter = 0\n",
    "for input in test_inputs:\n",
    "    counter += counter+1\n",
    "    output = xor_network.forward(input)\n",
    "    if output == 0.4999999999999999:\n",
    "        print(f\"Input: {input} Output: {0}\")\n",
    "    if output == 0.5:\n",
    "        print(f\"Input: {input} Output: {1}\")\n",
    "    if output == 0.5000000000000001:\n",
    "        print(\"ERROR\")\n"
   ]
  },
  {
   "cell_type": "code",
   "execution_count": null,
   "id": "841f4360-66a5-4df8-b443-507022adc020",
   "metadata": {},
   "outputs": [],
   "source": []
  }
 ],
 "metadata": {
  "kernelspec": {
   "display_name": "Python 3 (ipykernel)",
   "language": "python",
   "name": "python3"
  },
  "language_info": {
   "codemirror_mode": {
    "name": "ipython",
    "version": 3
   },
   "file_extension": ".py",
   "mimetype": "text/x-python",
   "name": "python",
   "nbconvert_exporter": "python",
   "pygments_lexer": "ipython3",
   "version": "3.11.3"
  }
 },
 "nbformat": 4,
 "nbformat_minor": 5
}
