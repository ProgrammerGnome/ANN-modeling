{
 "cells": [
  {
   "cell_type": "markdown",
   "id": "e60cf3ef-347f-44ed-b2f1-6e88477562aa",
   "metadata": {},
   "source": [
    "\n",
    "# Beadandó feladat!\n",
    "\n",
    "## Deep Learning 2003 beadandó feladat!\n",
    "\n",
    "#### Készítsen az alábbiakban letölthető fájlok segítségével egy a röntgen felvételeket értékelő bináris osztályozót. A felvételeken egészséges és beteg emberekhez tartozó röntgen képek találhatóak. A feladatot konvolúciós neurális hálózat segítségével valósítsa meg! Használjon korai leállítást, értékelje a modellt annak a pontosságával! Rajzolja ki a költségfügvény alakaulását (Loss) és szövegesen értékelje ki! Az elkészült modellt mentse el. A test adatokon értékelje a modelljét! A legjobb eredményt folyamatosan megosztom a Teamsben.\n",
    "\n",
    "#### Beküldési határidő: 2023.december 22.\n"
   ]
  },
  {
   "cell_type": "markdown",
   "id": "6c0f86be-e12c-438e-95e6-c6661645f01d",
   "metadata": {},
   "source": [
    "### Legeslegelőször beinportáljuk a szükséges könyvtárakat."
   ]
  },
  {
   "cell_type": "code",
   "execution_count": 1,
   "id": "ba87acb8-fbe8-45d3-a23c-8661fb5cf59f",
   "metadata": {},
   "outputs": [
    {
     "name": "stderr",
     "output_type": "stream",
     "text": [
      "2023-12-21 18:21:56.174195: E external/local_xla/xla/stream_executor/cuda/cuda_dnn.cc:9261] Unable to register cuDNN factory: Attempting to register factory for plugin cuDNN when one has already been registered\n",
      "2023-12-21 18:21:56.174227: E external/local_xla/xla/stream_executor/cuda/cuda_fft.cc:607] Unable to register cuFFT factory: Attempting to register factory for plugin cuFFT when one has already been registered\n",
      "2023-12-21 18:21:56.175436: E external/local_xla/xla/stream_executor/cuda/cuda_blas.cc:1515] Unable to register cuBLAS factory: Attempting to register factory for plugin cuBLAS when one has already been registered\n",
      "2023-12-21 18:21:56.182229: I tensorflow/core/platform/cpu_feature_guard.cc:182] This TensorFlow binary is optimized to use available CPU instructions in performance-critical operations.\n",
      "To enable the following instructions: AVX2 FMA, in other operations, rebuild TensorFlow with the appropriate compiler flags.\n",
      "2023-12-21 18:21:56.874750: W tensorflow/compiler/tf2tensorrt/utils/py_utils.cc:38] TF-TRT Warning: Could not find TensorRT\n"
     ]
    }
   ],
   "source": [
    "from tensorflow.keras.preprocessing.image import ImageDataGenerator\n",
    "import tensorflow as tf\n",
    "from tensorflow.keras import layers, applications\n",
    "from tensorflow.keras.callbacks import EarlyStopping, ModelCheckpoint, CSVLogger\n",
    "import matplotlib.pyplot as plt\n",
    "from tensorflow.keras.models import load_model\n",
    "import gdown\n",
    "import zipfile\n",
    "import os"
   ]
  },
  {
   "cell_type": "markdown",
   "id": "21c81c82-ec1d-4a26-a846-b309d931bdd6",
   "metadata": {},
   "source": [
    "#### Majd letöltjük és kicsomagoljuk az adathalmazt."
   ]
  },
  {
   "cell_type": "code",
   "execution_count": 2,
   "id": "2e4a5bad-c6e7-4e79-b748-6c1392639e3f",
   "metadata": {},
   "outputs": [
    {
     "name": "stderr",
     "output_type": "stream",
     "text": [
      "Downloading...\n",
      "From (uriginal): https://drive.google.com/uc?id=1FfgdLCOpDlJZLp0MGohTh1sf4LgHICrN\n",
      "From (redirected): https://drive.google.com/uc?id=1FfgdLCOpDlJZLp0MGohTh1sf4LgHICrN&confirm=t&uuid=9cd8a302-ddb8-422c-bd2d-0c83c6ab0514\n",
      "To: /home/kmark7/teszt/DL_beadandó.zip\n",
      "100%|████████████████████████████████████████████████████████████████████████████████████████████████████| 412M/412M [00:20<00:00, 20.1MB/s]\n"
     ]
    }
   ],
   "source": [
    "# A Google Drive-os fájl letöltése\n",
    "file_id = '1FfgdLCOpDlJZLp0MGohTh1sf4LgHICrN'\n",
    "url = f'https://drive.google.com/uc?id={file_id}'\n",
    "output = 'DL_beadandó.zip'\n",
    "gdown.download(url, output, quiet=False)\n",
    "\n",
    "# Fájl kicsomagolása\n",
    "output_folder = 'XRAY'\n",
    "with zipfile.ZipFile(output, 'r') as zip_ref:\n",
    "    zip_ref.extractall(output_folder)\n",
    "    \n",
    "# Eredeti ZIP-fájl törlése\n",
    "os.remove(output)"
   ]
  },
  {
   "cell_type": "markdown",
   "id": "04391097-b2a3-453c-a791-b16795aa540a",
   "metadata": {},
   "source": [
    "#### Képek méretét és batch méretet rakjuk bele egy-egy \"fő\" változóba."
   ]
  },
  {
   "cell_type": "code",
   "execution_count": 3,
   "id": "187bb835-39c1-4be0-9c56-7a38c3fb9756",
   "metadata": {},
   "outputs": [],
   "source": [
    "IMAGE_SHAPE = (250, 250)\n",
    "BATCH_SIZE = 10"
   ]
  },
  {
   "cell_type": "markdown",
   "id": "787c9794-6454-4c19-85f6-ecc0a8fe5d56",
   "metadata": {},
   "source": [
    "#### Kialakítjük az adathalmaz struktúráját."
   ]
  },
  {
   "cell_type": "code",
   "execution_count": 4,
   "id": "ea45d1f7-accb-4dce-b116-6c0c14297cd8",
   "metadata": {},
   "outputs": [
    {
     "name": "stdout",
     "output_type": "stream",
     "text": [
      "Training images:\n",
      "Found 1000 images belonging to 2 classes.\n",
      "Testing images:\n",
      "Found 624 images belonging to 2 classes.\n"
     ]
    }
   ],
   "source": [
    "# Adatok elérési útvonalai\n",
    "train_dir = \"XRAY/train/\"\n",
    "test_dir = \"XRAY/test/\"\n",
    "\n",
    "# Kép adatgenerátorok létrehozása\n",
    "train_datagen = ImageDataGenerator(rescale=1 / 255.)\n",
    "test_datagen = ImageDataGenerator(rescale=1 / 255.)\n",
    "\n",
    "# Tanító adathalmaz betöltése\n",
    "print(\"Training images:\")\n",
    "train_data = train_datagen.flow_from_directory(train_dir,\n",
    "                                               target_size=IMAGE_SHAPE,\n",
    "                                               batch_size=BATCH_SIZE,\n",
    "                                               class_mode=\"categorical\")\n",
    "\n",
    "# Teszt adathalmaz betöltése\n",
    "print(\"Testing images:\")\n",
    "test_data = test_datagen.flow_from_directory(test_dir,\n",
    "                                             target_size=IMAGE_SHAPE,\n",
    "                                             batch_size=BATCH_SIZE,\n",
    "                                             class_mode=\"categorical\")"
   ]
  },
  {
   "cell_type": "markdown",
   "id": "e94eda28-cdb4-42d2-be4d-c3fa67c2b235",
   "metadata": {},
   "source": [
    "### Maga a CNN architektúráját látjuk itt.\n",
    "#### Használunk BatchNormalizálást és Dropout-okat is: először konvolúciós rétegeket használunk, majd ezeket lapítjuk ki.\n",
    "#### A konvolúciós rétegek kernelét kcsire (2*2-re) állítottam, a bemeneti képek 250*250 px felbontásúak."
   ]
  },
  {
   "cell_type": "code",
   "execution_count": 5,
   "id": "7468b46b-8a26-4397-9739-3a6ecaee99f2",
   "metadata": {},
   "outputs": [
    {
     "name": "stdout",
     "output_type": "stream",
     "text": [
      "Model: \"sequential\"\n",
      "_________________________________________________________________\n",
      " Layer (type)                Output Shape              Param #   \n",
      "=================================================================\n",
      " conv2d (Conv2D)             (None, 249, 249, 256)     3328      \n",
      "                                                                 \n",
      " batch_normalization (Batch  (None, 249, 249, 256)     1024      \n",
      " Normalization)                                                  \n",
      "                                                                 \n",
      " max_pooling2d (MaxPooling2  (None, 124, 124, 256)     0         \n",
      " D)                                                              \n",
      "                                                                 \n",
      " conv2d_1 (Conv2D)           (None, 123, 123, 64)      65600     \n",
      "                                                                 \n",
      " batch_normalization_1 (Bat  (None, 123, 123, 64)      256       \n",
      " chNormalization)                                                \n",
      "                                                                 \n",
      " max_pooling2d_1 (MaxPoolin  (None, 61, 61, 64)        0         \n",
      " g2D)                                                            \n",
      "                                                                 \n",
      " conv2d_2 (Conv2D)           (None, 60, 60, 16)        4112      \n",
      "                                                                 \n",
      " batch_normalization_2 (Bat  (None, 60, 60, 16)        64        \n",
      " chNormalization)                                                \n",
      "                                                                 \n",
      " max_pooling2d_2 (MaxPoolin  (None, 30, 30, 16)        0         \n",
      " g2D)                                                            \n",
      "                                                                 \n",
      " flatten (Flatten)           (None, 14400)             0         \n",
      "                                                                 \n",
      " dropout (Dropout)           (None, 14400)             0         \n",
      "                                                                 \n",
      " dense (Dense)               (None, 64)                921664    \n",
      "                                                                 \n",
      " dropout_1 (Dropout)         (None, 64)                0         \n",
      "                                                                 \n",
      " dense_1 (Dense)             (None, 2)                 130       \n",
      "                                                                 \n",
      "=================================================================\n",
      "Total params: 996178 (3.80 MB)\n",
      "Trainable params: 995506 (3.80 MB)\n",
      "Non-trainable params: 672 (2.62 KB)\n",
      "_________________________________________________________________\n"
     ]
    },
    {
     "name": "stderr",
     "output_type": "stream",
     "text": [
      "2023-12-21 18:24:49.935517: I external/local_xla/xla/stream_executor/cuda/cuda_executor.cc:901] successful NUMA node read from SysFS had negative value (-1), but there must be at least one NUMA node, so returning NUMA node zero. See more at https://github.com/torvalds/linux/blob/v6.0/Documentation/ABI/testing/sysfs-bus-pci#L344-L355\n",
      "2023-12-21 18:24:49.965236: I external/local_xla/xla/stream_executor/cuda/cuda_executor.cc:901] successful NUMA node read from SysFS had negative value (-1), but there must be at least one NUMA node, so returning NUMA node zero. See more at https://github.com/torvalds/linux/blob/v6.0/Documentation/ABI/testing/sysfs-bus-pci#L344-L355\n",
      "2023-12-21 18:24:49.965427: I external/local_xla/xla/stream_executor/cuda/cuda_executor.cc:901] successful NUMA node read from SysFS had negative value (-1), but there must be at least one NUMA node, so returning NUMA node zero. See more at https://github.com/torvalds/linux/blob/v6.0/Documentation/ABI/testing/sysfs-bus-pci#L344-L355\n",
      "2023-12-21 18:24:49.966929: I external/local_xla/xla/stream_executor/cuda/cuda_executor.cc:901] successful NUMA node read from SysFS had negative value (-1), but there must be at least one NUMA node, so returning NUMA node zero. See more at https://github.com/torvalds/linux/blob/v6.0/Documentation/ABI/testing/sysfs-bus-pci#L344-L355\n",
      "2023-12-21 18:24:49.967185: I external/local_xla/xla/stream_executor/cuda/cuda_executor.cc:901] successful NUMA node read from SysFS had negative value (-1), but there must be at least one NUMA node, so returning NUMA node zero. See more at https://github.com/torvalds/linux/blob/v6.0/Documentation/ABI/testing/sysfs-bus-pci#L344-L355\n",
      "2023-12-21 18:24:49.967339: I external/local_xla/xla/stream_executor/cuda/cuda_executor.cc:901] successful NUMA node read from SysFS had negative value (-1), but there must be at least one NUMA node, so returning NUMA node zero. See more at https://github.com/torvalds/linux/blob/v6.0/Documentation/ABI/testing/sysfs-bus-pci#L344-L355\n",
      "2023-12-21 18:24:50.035936: I external/local_xla/xla/stream_executor/cuda/cuda_executor.cc:901] successful NUMA node read from SysFS had negative value (-1), but there must be at least one NUMA node, so returning NUMA node zero. See more at https://github.com/torvalds/linux/blob/v6.0/Documentation/ABI/testing/sysfs-bus-pci#L344-L355\n",
      "2023-12-21 18:24:50.036181: I external/local_xla/xla/stream_executor/cuda/cuda_executor.cc:901] successful NUMA node read from SysFS had negative value (-1), but there must be at least one NUMA node, so returning NUMA node zero. See more at https://github.com/torvalds/linux/blob/v6.0/Documentation/ABI/testing/sysfs-bus-pci#L344-L355\n",
      "2023-12-21 18:24:50.036341: I external/local_xla/xla/stream_executor/cuda/cuda_executor.cc:901] successful NUMA node read from SysFS had negative value (-1), but there must be at least one NUMA node, so returning NUMA node zero. See more at https://github.com/torvalds/linux/blob/v6.0/Documentation/ABI/testing/sysfs-bus-pci#L344-L355\n",
      "2023-12-21 18:24:50.036458: I tensorflow/core/common_runtime/gpu/gpu_device.cc:1929] Created device /job:localhost/replica:0/task:0/device:GPU:0 with 3435 MB memory:  -> device: 0, name: Quadro P600, pci bus id: 0000:01:00.0, compute capability: 6.1\n"
     ]
    }
   ],
   "source": [
    "# Konvolúciós neurális hálózat létrehozása\n",
    "model = tf.keras.models.Sequential([\n",
    "    layers.Conv2D(256, (2, 2), activation='relu', input_shape=(250, 250, 3)),\n",
    "    layers.BatchNormalization(momentum=0.9),\n",
    "    layers.MaxPooling2D((2, 2)),\n",
    "    layers.Conv2D(64, (2, 2), activation='relu'),\n",
    "    layers.BatchNormalization(momentum=0.9),\n",
    "    layers.MaxPooling2D((2, 2)),\n",
    "    layers.Conv2D(16, (2, 2), activation='relu'),\n",
    "    layers.BatchNormalization(momentum=0.9),\n",
    "    layers.MaxPooling2D((2, 2)),\n",
    "    layers.Flatten(),\n",
    "    layers.Dropout(0.25),\n",
    "    layers.Dense(64, activation='relu'),\n",
    "    layers.Dropout(0.9),\n",
    "    layers.Dense(2, activation='softmax')\n",
    "])\n",
    "\n",
    "# Modell adatainak kiíratása\n",
    "model.summary()"
   ]
  },
  {
   "cell_type": "markdown",
   "id": "0ec8538a-51cc-44e2-88bd-7532320feb24",
   "metadata": {},
   "source": [
    "#### Excel fájlba logolunk, mivel később ott rekonstruálni tudjuk a tanulási görbéket, grafikonokat, és ezeken kívül egyéb statisztikákat is készíthetünk."
   ]
  },
  {
   "cell_type": "code",
   "execution_count": 6,
   "id": "3e93ddca-0fcf-48eb-955a-544a35ce3510",
   "metadata": {},
   "outputs": [],
   "source": [
    "csv_logger = CSVLogger('ModelLog.csv', separator=',', append=False)"
   ]
  },
  {
   "cell_type": "markdown",
   "id": "1cb1df0a-b9ad-47b9-b2f1-3322bd54d49a",
   "metadata": {},
   "source": [
    "#### Beállítjuk az optimalizálót és a model aktivációs függvényét, tanulási rátáját."
   ]
  },
  {
   "cell_type": "code",
   "execution_count": 7,
   "id": "fcb6a4b2-9c14-4e0f-8aa3-fd9441237a32",
   "metadata": {},
   "outputs": [],
   "source": [
    "initial_learning_rate = 0.00001\n",
    "lr_schedule = tf.keras.optimizers.schedules.ExponentialDecay(\n",
    "    initial_learning_rate, decay_steps=5000, decay_rate=0.9, staircase=True)\n",
    "\n",
    "model.compile(loss='categorical_crossentropy',\n",
    "              optimizer=tf.keras.optimizers.AdamW(learning_rate=lr_schedule),\n",
    "              metrics=['accuracy'])"
   ]
  },
  {
   "cell_type": "markdown",
   "id": "6156a183-a1e0-40f4-929a-0359a30a2378",
   "metadata": {},
   "source": [
    "### Bővítjük az adathalmazt."
   ]
  },
  {
   "cell_type": "code",
   "execution_count": 8,
   "id": "d757df03-33ac-468c-a7fd-9b0f76f62b3a",
   "metadata": {},
   "outputs": [
    {
     "name": "stdout",
     "output_type": "stream",
     "text": [
      "Found 1000 images belonging to 2 classes.\n"
     ]
    }
   ],
   "source": [
    "# Bővített adathalmaz generátor létrehozása\n",
    "train_datagen_augmented = ImageDataGenerator(\n",
    "    rescale=1 / 255.,\n",
    "    rotation_range=40,\n",
    "    shear_range=0.3,\n",
    "    zoom_range=0.1,\n",
    "    width_shift_range=0.2,\n",
    "    height_shift_range=0.2,\n",
    "    horizontal_flip=True\n",
    ")\n",
    "\n",
    "# Bővített tanító adathalmaz generálása\n",
    "augmented_train_data = train_datagen_augmented.flow_from_directory(\n",
    "    train_dir,\n",
    "    target_size=IMAGE_SHAPE,\n",
    "    batch_size=BATCH_SIZE,\n",
    "    class_mode=\"categorical\",\n",
    "    shuffle=True\n",
    ")\n",
    "\n",
    "# Tanító adathalmazok összekapcsolása\n",
    "combined_train_data = tf.data.Dataset.from_generator(\n",
    "    lambda: train_data,\n",
    "    output_signature=(\n",
    "        tf.TensorSpec(shape=(None, 250, 250, 3), dtype=tf.float32),\n",
    "        tf.TensorSpec(shape=(None, 2), dtype=tf.float32)\n",
    "    )\n",
    ").concatenate(\n",
    "    tf.data.Dataset.from_generator(\n",
    "        lambda: augmented_train_data,\n",
    "        output_signature=(\n",
    "            tf.TensorSpec(shape=(None, 250, 250, 3), dtype=tf.float32),\n",
    "            tf.TensorSpec(shape=(None, 2), dtype=tf.float32)\n",
    "        )\n",
    "    )\n",
    ")"
   ]
  },
  {
   "cell_type": "markdown",
   "id": "4ff4f020-adbb-4089-b981-08c343dffc5f",
   "metadata": {},
   "source": [
    "#### Elmentünk egy tanítatlan modelt, erre majd a késöbbiekben lesz szükségünk."
   ]
  },
  {
   "cell_type": "code",
   "execution_count": 9,
   "id": "b6156f04-71ae-4870-8f5a-c8d30438c712",
   "metadata": {},
   "outputs": [
    {
     "name": "stderr",
     "output_type": "stream",
     "text": [
      "/home/kmark7/pysorflow/lib/python3.11/site-packages/keras/src/engine/training.py:3103: UserWarning: You are saving your model as an HDF5 file via `model.save()`. This file format is considered legacy. We recommend using instead the native Keras format, e.g. `model.save('my_model.keras')`.\n",
      "  saving_api.save_model(\n"
     ]
    }
   ],
   "source": [
    "model.save(\"PheoModel.h5\")"
   ]
  },
  {
   "cell_type": "markdown",
   "id": "7902a147-bd24-4e78-8352-4aa6209fb3ee",
   "metadata": {},
   "source": [
    "### Korai leállítást és modell mentés callback-eket inicializáljuk.\n",
    "#### Ez early stopping helyett ModelCheckpoint-ot használunk: minden epoch után ideiglenesen elmentjük, és a végén az adott szempont szerint legjobb modelt mentjük el véglegesen."
   ]
  },
  {
   "cell_type": "code",
   "execution_count": 10,
   "id": "5cd27230-bb1b-47e3-8b3a-6d4c0546b065",
   "metadata": {},
   "outputs": [],
   "source": [
    "# Korai leállítás\n",
    "early_stopping = EarlyStopping(monitor='val_accuracy',\n",
    "                               patience=5,\n",
    "                               restore_best_weights=True,\n",
    "                               verbose=1)\n",
    "\n",
    "# Modell mentés callback-ek inicializálása\n",
    "model_checkpoint = ModelCheckpoint(\"PheoModel.h5\",\n",
    "                                   save_best_only=True,\n",
    "                                   monitor='val_accuracy',\n",
    "                                   mode='max',\n",
    "                                   verbose=1)"
   ]
  },
  {
   "cell_type": "markdown",
   "id": "d819666c-8ab7-4aee-83b4-32af453c1cc2",
   "metadata": {},
   "source": [
    "### Tanítjuk a modellt!"
   ]
  },
  {
   "cell_type": "code",
   "execution_count": 11,
   "id": "8d054d4e-9913-4ebe-9c63-7b638db99504",
   "metadata": {},
   "outputs": [
    {
     "name": "stdout",
     "output_type": "stream",
     "text": [
      "Epoch 1/50\n"
     ]
    },
    {
     "name": "stderr",
     "output_type": "stream",
     "text": [
      "2023-12-21 18:25:17.347378: I external/local_xla/xla/stream_executor/cuda/cuda_dnn.cc:454] Loaded cuDNN version 8907\n",
      "2023-12-21 18:25:19.859691: W external/local_tsl/tsl/framework/bfc_allocator.cc:296] Allocator (GPU_0_bfc) ran out of memory trying to allocate 2.36GiB with freed_by_count=0. The caller indicates that this is not a failure, but this may mean that there could be performance gains if more memory were available.\n",
      "2023-12-21 18:25:20.399352: W external/local_tsl/tsl/framework/bfc_allocator.cc:296] Allocator (GPU_0_bfc) ran out of memory trying to allocate 2.36GiB with freed_by_count=0. The caller indicates that this is not a failure, but this may mean that there could be performance gains if more memory were available.\n",
      "2023-12-21 18:25:21.127356: I external/local_xla/xla/service/service.cc:168] XLA service 0x7f831d916060 initialized for platform CUDA (this does not guarantee that XLA will be used). Devices:\n",
      "2023-12-21 18:25:21.127380: I external/local_xla/xla/service/service.cc:176]   StreamExecutor device (0): Quadro P600, Compute Capability 6.1\n",
      "2023-12-21 18:25:21.132673: I tensorflow/compiler/mlir/tensorflow/utils/dump_mlir_util.cc:269] disabling MLIR crash reproducer, set env var `MLIR_CRASH_REPRODUCER_DIRECTORY` to enable.\n",
      "WARNING: All log messages before absl::InitializeLog() is called are written to STDERR\n",
      "I0000 00:00:1703179521.199814  126554 device_compiler.h:186] Compiled cluster using XLA!  This line is logged at most once for the lifetime of the process.\n",
      "2023-12-21 18:25:23.180889: W external/local_tsl/tsl/framework/bfc_allocator.cc:296] Allocator (GPU_0_bfc) ran out of memory trying to allocate 2.08GiB with freed_by_count=0. The caller indicates that this is not a failure, but this may mean that there could be performance gains if more memory were available.\n",
      "2023-12-21 18:25:23.715751: W external/local_tsl/tsl/framework/bfc_allocator.cc:296] Allocator (GPU_0_bfc) ran out of memory trying to allocate 2.08GiB with freed_by_count=0. The caller indicates that this is not a failure, but this may mean that there could be performance gains if more memory were available.\n"
     ]
    },
    {
     "name": "stdout",
     "output_type": "stream",
     "text": [
      "100/100 [==============================] - ETA: 0s - loss: 2.5697 - accuracy: 0.5300\n",
      "Epoch 1: val_accuracy improved from -inf to 0.72115, saving model to PheoModel.h5\n",
      "100/100 [==============================] - 47s 384ms/step - loss: 2.5697 - accuracy: 0.5300 - val_loss: 0.5571 - val_accuracy: 0.7212\n",
      "Epoch 2/50\n",
      "100/100 [==============================] - ETA: 0s - loss: 1.5962 - accuracy: 0.5840\n",
      "Epoch 2: val_accuracy improved from 0.72115 to 0.80128, saving model to PheoModel.h5\n",
      "100/100 [==============================] - 36s 364ms/step - loss: 1.5962 - accuracy: 0.5840 - val_loss: 0.4556 - val_accuracy: 0.8013\n",
      "Epoch 3/50\n",
      "100/100 [==============================] - ETA: 0s - loss: 0.9382 - accuracy: 0.6630\n",
      "Epoch 3: val_accuracy improved from 0.80128 to 0.84455, saving model to PheoModel.h5\n",
      "100/100 [==============================] - 37s 366ms/step - loss: 0.9382 - accuracy: 0.6630 - val_loss: 0.4217 - val_accuracy: 0.8446\n",
      "Epoch 4/50\n",
      "100/100 [==============================] - ETA: 0s - loss: 0.7260 - accuracy: 0.6860\n",
      "Epoch 4: val_accuracy improved from 0.84455 to 0.85096, saving model to PheoModel.h5\n",
      "100/100 [==============================] - 36s 364ms/step - loss: 0.7260 - accuracy: 0.6860 - val_loss: 0.4190 - val_accuracy: 0.8510\n",
      "Epoch 5/50\n",
      "100/100 [==============================] - ETA: 0s - loss: 0.6820 - accuracy: 0.7060\n",
      "Epoch 5: val_accuracy improved from 0.85096 to 0.86218, saving model to PheoModel.h5\n",
      "100/100 [==============================] - 36s 365ms/step - loss: 0.6820 - accuracy: 0.7060 - val_loss: 0.4179 - val_accuracy: 0.8622\n",
      "Epoch 6/50\n",
      "100/100 [==============================] - ETA: 0s - loss: 0.5993 - accuracy: 0.7040\n",
      "Epoch 6: val_accuracy improved from 0.86218 to 0.86538, saving model to PheoModel.h5\n",
      "100/100 [==============================] - 36s 364ms/step - loss: 0.5993 - accuracy: 0.7040 - val_loss: 0.4110 - val_accuracy: 0.8654\n",
      "Epoch 7/50\n",
      "100/100 [==============================] - ETA: 0s - loss: 0.5417 - accuracy: 0.7380\n",
      "Epoch 7: val_accuracy improved from 0.86538 to 0.86859, saving model to PheoModel.h5\n",
      "100/100 [==============================] - 36s 364ms/step - loss: 0.5417 - accuracy: 0.7380 - val_loss: 0.3904 - val_accuracy: 0.8686\n",
      "Epoch 8/50\n",
      "100/100 [==============================] - ETA: 0s - loss: 0.5300 - accuracy: 0.7310\n",
      "Epoch 8: val_accuracy improved from 0.86859 to 0.88782, saving model to PheoModel.h5\n",
      "100/100 [==============================] - 36s 365ms/step - loss: 0.5300 - accuracy: 0.7310 - val_loss: 0.3689 - val_accuracy: 0.8878\n",
      "Epoch 9/50\n",
      "100/100 [==============================] - ETA: 0s - loss: 0.4784 - accuracy: 0.7630\n",
      "Epoch 9: val_accuracy improved from 0.88782 to 0.89103, saving model to PheoModel.h5\n",
      "100/100 [==============================] - 36s 364ms/step - loss: 0.4784 - accuracy: 0.7630 - val_loss: 0.3516 - val_accuracy: 0.8910\n",
      "Epoch 10/50\n",
      "100/100 [==============================] - ETA: 0s - loss: 0.4508 - accuracy: 0.7830\n",
      "Epoch 10: val_accuracy improved from 0.89103 to 0.89263, saving model to PheoModel.h5\n",
      "100/100 [==============================] - 36s 364ms/step - loss: 0.4508 - accuracy: 0.7830 - val_loss: 0.3391 - val_accuracy: 0.8926\n",
      "Epoch 11/50\n",
      "100/100 [==============================] - ETA: 0s - loss: 0.4518 - accuracy: 0.7890\n",
      "Epoch 11: val_accuracy improved from 0.89263 to 0.89904, saving model to PheoModel.h5\n",
      "100/100 [==============================] - 36s 365ms/step - loss: 0.4518 - accuracy: 0.7890 - val_loss: 0.3257 - val_accuracy: 0.8990\n",
      "Epoch 12/50\n",
      "100/100 [==============================] - ETA: 0s - loss: 0.4322 - accuracy: 0.7950\n",
      "Epoch 12: val_accuracy did not improve from 0.89904\n",
      "100/100 [==============================] - 36s 364ms/step - loss: 0.4322 - accuracy: 0.7950 - val_loss: 0.3190 - val_accuracy: 0.8910\n",
      "Epoch 13/50\n",
      "100/100 [==============================] - ETA: 0s - loss: 0.4381 - accuracy: 0.8020\n",
      "Epoch 13: val_accuracy did not improve from 0.89904\n",
      "100/100 [==============================] - 37s 367ms/step - loss: 0.4381 - accuracy: 0.8020 - val_loss: 0.3061 - val_accuracy: 0.8926\n",
      "Epoch 14/50\n",
      "100/100 [==============================] - ETA: 0s - loss: 0.4131 - accuracy: 0.8160\n",
      "Epoch 14: val_accuracy did not improve from 0.89904\n",
      "100/100 [==============================] - 37s 366ms/step - loss: 0.4131 - accuracy: 0.8160 - val_loss: 0.2918 - val_accuracy: 0.8990\n",
      "Epoch 15/50\n",
      "100/100 [==============================] - ETA: 0s - loss: 0.3813 - accuracy: 0.8210\n",
      "Epoch 15: val_accuracy did not improve from 0.89904\n",
      "100/100 [==============================] - 36s 365ms/step - loss: 0.3813 - accuracy: 0.8210 - val_loss: 0.2937 - val_accuracy: 0.8910\n",
      "Epoch 16/50\n",
      "100/100 [==============================] - ETA: 0s - loss: 0.3641 - accuracy: 0.8180Restoring model weights from the end of the best epoch: 11.\n",
      "\n",
      "Epoch 16: val_accuracy did not improve from 0.89904\n",
      "100/100 [==============================] - 36s 364ms/step - loss: 0.3641 - accuracy: 0.8180 - val_loss: 0.3011 - val_accuracy: 0.8846\n",
      "Epoch 16: early stopping\n"
     ]
    }
   ],
   "source": [
    "loaded_model = load_model(\"PheoModel.h5\")\n",
    "history = loaded_model.fit(combined_train_data,\n",
    "                           epochs=50,\n",
    "                           steps_per_epoch=len(train_data),\n",
    "                           validation_data=test_data,\n",
    "                           validation_steps=len(test_data),\n",
    "                           callbacks=[early_stopping, model_checkpoint, csv_logger])"
   ]
  },
  {
   "cell_type": "markdown",
   "id": "09b8bddf-5779-4b29-afc9-e6532d831652",
   "metadata": {},
   "source": [
    "### Ábrázoljuk a pontosság -és a veszteségfüggvényeket.\n",
    "#### A modellünk viszonylag stabilan és egyenletesen tanul, de elég lassan is sajnos."
   ]
  },
  {
   "cell_type": "code",
   "execution_count": 12,
   "id": "95de7f9b-ce32-4520-bf21-a36f35364798",
   "metadata": {},
   "outputs": [
    {
     "data": {
      "image/png": "[encoded data removed]",
      "text/plain": [
       "<Figure size 640x480 with 1 Axes>"
      ]
     },
     "metadata": {},
     "output_type": "display_data"
    },
    {
     "data": {
      "image/png": "[encoded data removed]",
      "text/plain": [
       "<Figure size 640x480 with 1 Axes>"
      ]
     },
     "metadata": {},
     "output_type": "display_data"
    }
   ],
   "source": [
    "def plot_loss_curves(history):\n",
    "    loss = history.history['loss']\n",
    "    val_loss = history.history['val_loss']\n",
    "    accuracy = history.history['accuracy']\n",
    "    val_accuracy = history.history['val_accuracy']\n",
    "    epochs = range(len(history.history['loss']))\n",
    "\n",
    "    plt.plot(epochs, loss, label='training_loss')\n",
    "    plt.plot(epochs, val_loss, label='val_loss')\n",
    "    plt.title('Loss')\n",
    "    plt.xlabel('Epochs')\n",
    "    plt.legend()\n",
    "    plt.show()\n",
    "\n",
    "    plt.figure()\n",
    "    plt.plot(epochs, accuracy, label='training_accuracy')\n",
    "    plt.plot(epochs, val_accuracy, label='val_accuracy')\n",
    "    plt.title('Accuracy')\n",
    "    plt.xlabel('Epochs')\n",
    "    plt.legend()\n",
    "    plt.show()\n",
    "\n",
    "\n",
    "plot_loss_curves(history)"
   ]
  },
  {
   "cell_type": "markdown",
   "id": "b3533787-8fda-47cc-b42e-49e2d5d82bc1",
   "metadata": {},
   "source": [
    "#### Kiíratjuk a legjobb modellnek a pontosságát, amit elmentettünk."
   ]
  },
  {
   "cell_type": "code",
   "execution_count": 18,
   "id": "73d8b3e2-83d9-4bba-b949-c29bee8bc872",
   "metadata": {},
   "outputs": [
    {
     "name": "stdout",
     "output_type": "stream",
     "text": [
      "A modell teszthalmazon vett pontossága: 89.90384 %\n"
     ]
    }
   ],
   "source": [
    "model2 = tf.keras.models.load_model(\"PheoModel.h5\")\n",
    "print(\"A modell teszthalmazon vett pontossága:\", round(max(history.history['val_accuracy'])*100, 5), \"%\")"
   ]
  },
  {
   "cell_type": "code",
   "execution_count": null,
   "id": "c8cf9e00-f408-40ec-8412-1ee0c50cde3f",
   "metadata": {},
   "outputs": [],
   "source": []
  }
 ],
 "metadata": {
  "kernelspec": {
   "display_name": "pysorflow-kernel",
   "language": "python",
   "name": "pysorflow-kernel"
  },
  "language_info": {
   "codemirror_mode": {
    "name": "ipython",
    "version": 3
   },
   "file_extension": ".py",
   "mimetype": "text/x-python",
   "name": "python",
   "nbconvert_exporter": "python",
   "pygments_lexer": "ipython3",
   "version": "3.11.6"
  }
 },
 "nbformat": 4,
 "nbformat_minor": 5
}
