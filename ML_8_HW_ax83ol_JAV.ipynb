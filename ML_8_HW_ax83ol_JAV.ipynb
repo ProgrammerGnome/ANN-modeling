{
  "nbformat": 4,
  "nbformat_minor": 0,
  "metadata": {
    "colab": {
      "provenance": []
    },
    "kernelspec": {
      "name": "python3",
      "display_name": "Python 3"
    },
    "language_info": {
      "name": "python"
    }
  },
  "cells": [
    {
      "cell_type": "markdown",
      "source": [
        "# **ML Házi Feladat**\n",
        "# (Király Márk - AX83OL)"
      ],
      "metadata": {
        "id": "DYKP1eaF-KwO"
      }
    },
    {
      "cell_type": "markdown",
      "source": [
        "# **SVM-es megoldás**"
      ],
      "metadata": {
        "id": "Pv7eqFoMKUJt"
      }
    },
    {
      "cell_type": "markdown",
      "source": [
        "## Feltelepítjük a szükséges lib-eket."
      ],
      "metadata": {
        "id": "2RWj0EU0-M_Q"
      }
    },
    {
      "cell_type": "code",
      "execution_count": 2,
      "metadata": {
        "colab": {
          "base_uri": "https://localhost:8080/"
        },
        "id": "nu_IHndT-IB9",
        "outputId": "e714fd52-1d7e-4d99-81c2-ca6588672070"
      },
      "outputs": [
        {
          "output_type": "stream",
          "name": "stdout",
          "text": [
            "Requirement already satisfied: pandas in /usr/local/lib/python3.10/dist-packages (2.0.3)\n",
            "Requirement already satisfied: scikit-learn in /usr/local/lib/python3.10/dist-packages (1.2.2)\n",
            "Requirement already satisfied: python-dateutil>=2.8.2 in /usr/local/lib/python3.10/dist-packages (from pandas) (2.8.2)\n",
            "Requirement already satisfied: pytz>=2020.1 in /usr/local/lib/python3.10/dist-packages (from pandas) (2023.4)\n",
            "Requirement already satisfied: tzdata>=2022.1 in /usr/local/lib/python3.10/dist-packages (from pandas) (2024.1)\n",
            "Requirement already satisfied: numpy>=1.21.0 in /usr/local/lib/python3.10/dist-packages (from pandas) (1.25.2)\n",
            "Requirement already satisfied: scipy>=1.3.2 in /usr/local/lib/python3.10/dist-packages (from scikit-learn) (1.11.4)\n",
            "Requirement already satisfied: joblib>=1.1.1 in /usr/local/lib/python3.10/dist-packages (from scikit-learn) (1.4.0)\n",
            "Requirement already satisfied: threadpoolctl>=2.0.0 in /usr/local/lib/python3.10/dist-packages (from scikit-learn) (3.4.0)\n",
            "Requirement already satisfied: six>=1.5 in /usr/local/lib/python3.10/dist-packages (from python-dateutil>=2.8.2->pandas) (1.16.0)\n"
          ]
        }
      ],
      "source": [
        "!pip install pandas scikit-learn"
      ]
    },
    {
      "cell_type": "markdown",
      "source": [
        "## **Megpróbálkozunk** a feladat megoldásával... (A működése ommentelve!!!)"
      ],
      "metadata": {
        "id": "5TEtUpXk-Lvp"
      }
    },
    {
      "cell_type": "code",
      "source": [
        "import pandas as pd\n",
        "from sklearn.model_selection import train_test_split\n",
        "from sklearn.svm import SVC\n",
        "from sklearn.model_selection import GridSearchCV\n",
        "from sklearn.metrics import classification_report\n",
        "import warnings\n",
        "\n",
        "# Adatok betöltése\n",
        "df = pd.read_csv('https://raw.githubusercontent.com/karsarobert/Machine_Learning_2024/main/BAF3A.csv', header=0) # A fejlécet [0.sor] eldobjuk...\n",
        "\n",
        "# Hiányzó értékek kezelése: hiányzó sorok eldobása\n",
        "df.dropna(inplace=True)\n",
        "\n",
        "# Független változók (X) és célváltozó (y) kiválasztása\n",
        "X = df.drop(['ClassName', 'ClassValue'], axis=1) # Eldobjuk a 'ClassName' és 'ClassValue' oszlopokat\n",
        "y = df['ClassValue'] # A célváltozó...\n",
        "\n",
        "# Tanító és teszt adatokra bontás\n",
        "X_train, X_test, y_train, y_test = train_test_split(X, y, test_size=0.2, random_state=42)\n",
        "\n",
        "# SVC létrehozása és paraméterek beállítása\n",
        "svc = SVC(kernel='rbf')\n",
        "\n",
        "parameters = {'C': (100, 1e3, 1e4, 1e5),\n",
        "              'gamma': (1e-08, 1e-7, 1e-6, 1e-5)}\n",
        "\n",
        "# Kikapcsoljuk a figyelmeztetéseket\n",
        "warnings.filterwarnings(\"ignore\", category=UserWarning)\n",
        "\n",
        "# GridSearchCV létrehozása és illesztése az adatokra\n",
        "grid_search = GridSearchCV(svc, parameters, n_jobs=-1, cv=5) #5-ször több az éles adat a tanulóadatnál\n",
        "grid_search.fit(X_train, y_train) # A model illesztése\n",
        "\n",
        "# Legjobb paraméterek és pontosság kiíratása\n",
        "print(grid_search.best_params_)\n",
        "print(grid_search.best_score_)\n",
        "\n",
        "# Legjobb becslő kiválasztása és pontosságának kiíratása\n",
        "svc_best = grid_search.best_estimator_\n",
        "accuracy = svc_best.score(X_test, y_test)\n",
        "print(f'The accuracy is: {accuracy*100:.1f}%')\n",
        "\n",
        "# Minden egyéb (pl.: precision, recall, f1-score, support...) kiíratása\n",
        "prediction = svc_best.predict(X_test)\n",
        "report = classification_report(y_test, prediction)\n",
        "print(report)"
      ],
      "metadata": {
        "colab": {
          "base_uri": "https://localhost:8080/"
        },
        "id": "paKQb0t1-KKn",
        "outputId": "e781ed05-20c6-4683-c224-4e5e46955d68"
      },
      "execution_count": 3,
      "outputs": [
        {
          "output_type": "stream",
          "name": "stdout",
          "text": [
            "{'C': 10000.0, 'gamma': 1e-07}\n",
            "0.8319018404907975\n",
            "The accuracy is: 81.9%\n",
            "              precision    recall  f1-score   support\n",
            "\n",
            "           1       0.00      0.00      0.00         0\n",
            "           2       0.64      0.94      0.76        85\n",
            "           3       0.00      0.00      0.00         1\n",
            "           4       0.00      0.00      0.00         1\n",
            "           5       0.00      0.00      0.00        13\n",
            "           6       0.92      0.96      0.94       262\n",
            "           7       0.75      0.08      0.15        36\n",
            "           8       0.00      0.00      0.00        10\n",
            "           9       0.00      0.00      0.00         0\n",
            "\n",
            "    accuracy                           0.82       408\n",
            "   macro avg       0.26      0.22      0.21       408\n",
            "weighted avg       0.79      0.82      0.77       408\n",
            "\n"
          ]
        }
      ]
    },
    {
      "cell_type": "markdown",
      "source": [
        "# Figyelem! Hiba!\n",
        "Mivel vannak olyan értékek, melyek a ClassValue célváltozó oszlopban csak 1-szer szerepelnek, így a tanító ClassValue oszlop különböző értékeinek száma nem fog megegyezni a teszt CalssValue különböző értékeinek számával."
      ],
      "metadata": {
        "id": "9K3pfo-Ekf-d"
      }
    },
    {
      "cell_type": "code",
      "source": [
        "import pandas as pd\n",
        "\n",
        "# CSV fájl beolvasása\n",
        "df = pd.read_csv('https://raw.githubusercontent.com/karsarobert/Machine_Learning_2024/main/BAF3A.csv')\n",
        "\n",
        "unique_classes_train = y_train.unique()\n",
        "unique_classes_test = y_test.unique()\n",
        "\n",
        "print(\"A tanuló halmaz osztályainak száma:\", set(unique_classes_train))\n",
        "print(\"A teszt halmaz osztályainak száma:\", set(unique_classes_test))\n",
        "\n",
        "# Metszet és unió meghatározása\n",
        "intersection = set(unique_classes_test).intersection(set(unique_classes_train))\n",
        "union = set(unique_classes_test).union(set(unique_classes_train))\n",
        "\n",
        "result_set_train = (union-intersection)-set(unique_classes_train)\n",
        "result_set_test = (union-intersection)-set(unique_classes_test)\n",
        "\n",
        "result_string_train = '; '.join(map(str, result_set_train))\n",
        "result_string_test = '; '.join(map(str, result_set_test))\n",
        "\n",
        "print(\"A következő elemek szerepelnek a teszt halmazban, de a tanuló halmazban viszont nem: \",result_string_train,\" (Ez \",len(result_set_train),\"db osztályt jelent.)\")\n",
        "print(\"A következő elemek szerepelnek a tanuló halmazban, de a teszt halmazban viszont nem: \",result_string_test,\" (Ez \",len(result_set_test),\"db osztályt jelent.\")"
      ],
      "metadata": {
        "colab": {
          "base_uri": "https://localhost:8080/"
        },
        "id": "bqilyhwLgmI8",
        "outputId": "ee039221-45b7-42ae-a66b-c9c417c219d3"
      },
      "execution_count": 4,
      "outputs": [
        {
          "output_type": "stream",
          "name": "stdout",
          "text": [
            "A tanuló halmaz osztályainak száma: {1, 2, 4, 5, 6, 7, 8, 9, 10}\n",
            "A teszt halmaz osztályainak száma: {2, 3, 4, 5, 6, 7, 8}\n",
            "A következő elemek szerepelnek a teszt halmazban, de a tanuló halmazban viszont nem:  3  (Ez  1 db osztályt jelent.)\n",
            "A következő elemek szerepelnek a tanuló halmazban, de a teszt halmazban viszont nem:  1; 10; 9  (Ez  3 db osztályt jelent.\n"
          ]
        }
      ]
    },
    {
      "cell_type": "markdown",
      "source": [
        "# Az előbb említett hiba feloldása:\n",
        "\n",
        "Az előbbi hibát úgy köszörüljük ki, hogy eldobjuk az előzőekben látott olyan sorokat (osztályok) a ClassValue oszlopból, melyek csak egyszer fordulnak elő.\n",
        "\n",
        "\n",
        "```\n",
        "classes_to_remove = result_set_train.union(result_set_test)\n",
        "df = df[~df['ClassValue'].isin(classes_to_remove)]\n",
        "```\n",
        "\n",
        "Így nem lesz olyan, hogy egy adat csak a teszt vagy csak a tanuló halmazban szerepel. A modell pontossága is várhatóan javulni fog ezáltal."
      ],
      "metadata": {
        "id": "p6W0yRoQqFEN"
      }
    },
    {
      "cell_type": "code",
      "source": [
        "import pandas as pd\n",
        "from sklearn.model_selection import train_test_split\n",
        "from sklearn.svm import SVC\n",
        "from sklearn.model_selection import GridSearchCV\n",
        "from sklearn.metrics import classification_report\n",
        "import warnings\n",
        "\n",
        "# Adatok betöltése\n",
        "df = pd.read_csv('https://raw.githubusercontent.com/karsarobert/Machine_Learning_2024/main/BAF3A.csv', header=0) # A fejlécet [0.sor] eldobjuk...\n",
        "\n",
        "# Hiányzó értékek kezelése: hiányzó sorok eldobása\n",
        "df.dropna(inplace=True)\n",
        "\n",
        "# MÓDOSÍTÁS!!!! ---------\n",
        "classes_to_remove = result_set_train.union(result_set_test)\n",
        "df = df[~df['ClassValue'].isin(classes_to_remove)]\n",
        "# -----------------------\n",
        "\n",
        "# Független változók (X) és célváltozó (y) kiválasztása\n",
        "X = df.drop(['ClassName', 'ClassValue'], axis=1) # Eldobjuk a 'ClassName' és 'ClassValue' oszlopokat\n",
        "y = df['ClassValue'] # A célváltozó...\n",
        "\n",
        "# Tanító és teszt adatokra bontás\n",
        "X_train, X_test, y_train, y_test = train_test_split(X, y, test_size=0.2, random_state=42)\n",
        "\n",
        "# SVC létrehozása és paraméterek beállítása\n",
        "svc = SVC(kernel='rbf')\n",
        "\n",
        "parameters = {'C': (100, 1e3, 1e4, 1e5),\n",
        "              'gamma': (1e-08, 1e-7, 1e-6, 1e-5)}\n",
        "\n",
        "# Kikapcsoljuk a figyelmeztetéseket\n",
        "warnings.filterwarnings(\"ignore\", category=UserWarning)\n",
        "\n",
        "# GridSearchCV létrehozása és illesztése az adatokra\n",
        "grid_search = GridSearchCV(svc, parameters, n_jobs=-1, cv=5) #5-ször több az éles adat a tanulóadatnál\n",
        "grid_search.fit(X_train, y_train) # A model illesztése\n",
        "\n",
        "# Legjobb paraméterek és pontosság kiíratása\n",
        "print(grid_search.best_params_)\n",
        "print(grid_search.best_score_)\n",
        "\n",
        "# Legjobb becslő kiválasztása és pontosságának kiíratása\n",
        "svc_best = grid_search.best_estimator_\n",
        "accuracy = svc_best.score(X_test, y_test)\n",
        "print(f'The accuracy is: {accuracy*100:.1f}%')\n",
        "\n",
        "# Minden egyéb (pl.: precision, recall, f1-score, support...) kiíratása\n",
        "prediction = svc_best.predict(X_test)\n",
        "report = classification_report(y_test, prediction)\n",
        "print(report)"
      ],
      "metadata": {
        "colab": {
          "base_uri": "https://localhost:8080/"
        },
        "id": "SXqW4dOzqErm",
        "outputId": "326fc52b-0f87-4230-9803-29dbdf4157aa"
      },
      "execution_count": 5,
      "outputs": [
        {
          "output_type": "stream",
          "name": "stdout",
          "text": [
            "{'C': 100, 'gamma': 1e-06}\n",
            "0.8257378917378919\n",
            "The accuracy is: 85.7%\n",
            "              precision    recall  f1-score   support\n",
            "\n",
            "           2       0.72      0.99      0.83        88\n",
            "           4       0.00      0.00      0.00         1\n",
            "           5       0.00      0.00      0.00        13\n",
            "           6       0.92      0.98      0.95       265\n",
            "           7       1.00      0.11      0.20        27\n",
            "           8       0.00      0.00      0.00        13\n",
            "\n",
            "    accuracy                           0.86       407\n",
            "   macro avg       0.44      0.35      0.33       407\n",
            "weighted avg       0.82      0.86      0.81       407\n",
            "\n"
          ]
        }
      ]
    },
    {
      "cell_type": "markdown",
      "source": [
        "## Az egyes jellemzők fontosságát (hogy milyen mértékben befolyásolják a pontosságot) az alábbi grafikon mutatja be:\n",
        "\n",
        "Megjegyzés:\n",
        "Újra lefuttatva ezt a céllát, újabb értéket kapnánk.\n",
        "Ezekből akár átlagot is lehetne számolni.\n",
        "\n",
        "## Megtesszük!!!\n",
        "10-szer lefuttatjuk a folyamatot, majd a végén vesszük a 10 futás átlageredményét. Természetesen ezt érdemes lenne nagyságrendekkel többször megcsinálni... csak arra most nincs időm..."
      ],
      "metadata": {
        "id": "b-3dUjNRt90z"
      }
    },
    {
      "cell_type": "code",
      "source": [
        "from sklearn.inspection import permutation_importance\n",
        "import numpy as np\n",
        "import matplotlib.pyplot as plt\n",
        "\n",
        "perm_importance_list = []\n",
        "\n",
        "# 10-szer meghívjuk a permutation_importance függvényt\n",
        "for _ in range(10):\n",
        "    perm_importance = permutation_importance(svc_best, X_test, y_test)\n",
        "    perm_importance_list.append(perm_importance)\n",
        "\n",
        "importances_means = [perm_importance.importances_mean for perm_importance in perm_importance_list]\n",
        "\n",
        "# Vesszük a 10 menetnek az átlagát\n",
        "average_importance = np.mean(importances_means, axis=0)\n",
        "\n",
        "feature_names = X.columns.to_list()\n",
        "features = np.array(feature_names)\n",
        "\n",
        "sorted_idx = average_importance.argsort()\n",
        "plt.barh(features[sorted_idx], average_importance[sorted_idx])\n",
        "plt.xlabel(\"Permutation Importance\")"
      ],
      "metadata": {
        "colab": {
          "base_uri": "https://localhost:8080/",
          "height": 466
        },
        "id": "jhW7BzG6L3CJ",
        "outputId": "9f37e7b1-bd78-4dcc-fff5-955703026c83"
      },
      "execution_count": 6,
      "outputs": [
        {
          "output_type": "execute_result",
          "data": {
            "text/plain": [
              "Text(0.5, 0, 'Permutation Importance')"
            ]
          },
          "metadata": {},
          "execution_count": 6
        },
        {
          "output_type": "display_data",
          "data": {
            "text/plain": [
              "<Figure size 640x480 with 1 Axes>"
            ],
            "image/png": "[encoded data removed]"
          },
          "metadata": {}
        }
      ]
    },
    {
      "cell_type": "markdown",
      "source": [
        "# **Random Forest-es megoldás**"
      ],
      "metadata": {
        "id": "cvGKJumvKSbd"
      }
    },
    {
      "cell_type": "markdown",
      "source": [
        "## Ez a fajta megoldás kódja nagyon hasonlít az előzőekre, csak éppen a lényeg (maga az osztályozó) más."
      ],
      "metadata": {
        "id": "CR2P3KAfKSIq"
      }
    },
    {
      "cell_type": "code",
      "source": [
        "import pandas as pd\n",
        "from sklearn.model_selection import train_test_split\n",
        "from sklearn.ensemble import RandomForestClassifier\n",
        "from sklearn.model_selection import GridSearchCV\n",
        "from sklearn.metrics import classification_report\n",
        "import warnings\n",
        "\n",
        "# Adatok betöltése\n",
        "df = pd.read_csv('https://raw.githubusercontent.com/karsarobert/Machine_Learning_2024/main/BAF3A.csv', header=0)\n",
        "\n",
        "# Hiányzó értékek kezelése: hiányzó sorok eldobása\n",
        "df.dropna(inplace=True)\n",
        "\n",
        "# EZ A MÓDOSÍTÁS ITT IS MEGMARAD!!! ---------\n",
        "classes_to_remove = result_set_train.union(result_set_test)\n",
        "df = df[~df['ClassValue'].isin(classes_to_remove)]\n",
        "# -------------------------------------------\n",
        "\n",
        "# Független változók (X) és célváltozó (y) kiválasztása\n",
        "X = df.drop(['ClassName', 'ClassValue'], axis=1)\n",
        "y = df['ClassValue']\n",
        "\n",
        "# Tanító és teszt adatokra bontás\n",
        "X_train, X_test, y_train, y_test = train_test_split(X, y, test_size=0.2, random_state=42)\n",
        "\n",
        "# RandomForestClassifier létrehozása és paraméterek beállítása\n",
        "rfc = RandomForestClassifier()\n",
        "\n",
        "parameters = {'n_estimators': [100, 200, 300],\n",
        "              'max_depth': [10, 20, 30]}\n",
        "\n",
        "# Kikapcsoljuk a figyelmeztetéseket\n",
        "warnings.filterwarnings(\"ignore\", category=UserWarning)\n",
        "\n",
        "# GridSearchCV létrehozása és illesztése az adatokra\n",
        "grid_search = GridSearchCV(rfc, parameters, n_jobs=-1, cv=5)\n",
        "grid_search.fit(X_train, y_train)\n",
        "\n",
        "# Legjobb paraméterek és pontosság kiíratása\n",
        "print(grid_search.best_params_)\n",
        "print(grid_search.best_score_)\n",
        "\n",
        "# Legjobb becslő kiválasztása és pontosságának kiíratása\n",
        "rfc_best = grid_search.best_estimator_\n",
        "accuracy = rfc_best.score(X_test, y_test)\n",
        "print(f'The accuracy is: {accuracy*100:.1f}%')\n",
        "\n",
        "# Minden egyéb (pl.: precision, recall, f1-score, support...) kiíratása\n",
        "prediction = rfc_best.predict(X_test)\n",
        "report = classification_report(y_test, prediction)\n",
        "print(report)"
      ],
      "metadata": {
        "colab": {
          "base_uri": "https://localhost:8080/"
        },
        "id": "me9JZHRTKSiY",
        "outputId": "98545f92-dfd1-4dee-a862-9431a26faaa9"
      },
      "execution_count": 7,
      "outputs": [
        {
          "output_type": "stream",
          "name": "stdout",
          "text": [
            "{'max_depth': 10, 'n_estimators': 200}\n",
            "0.8189648622981955\n",
            "The accuracy is: 84.8%\n",
            "              precision    recall  f1-score   support\n",
            "\n",
            "           2       0.74      0.98      0.84        88\n",
            "           4       0.00      0.00      0.00         1\n",
            "           5       0.00      0.00      0.00        13\n",
            "           6       0.92      0.96      0.94       265\n",
            "           7       0.36      0.15      0.21        27\n",
            "           8       0.00      0.00      0.00        13\n",
            "\n",
            "    accuracy                           0.85       407\n",
            "   macro avg       0.34      0.35      0.33       407\n",
            "weighted avg       0.78      0.85      0.81       407\n",
            "\n"
          ]
        }
      ]
    },
    {
      "cell_type": "markdown",
      "source": [
        "### **A magyarázat az előző megoldási útnál van, most ugyanazt játszom le...**"
      ],
      "metadata": {
        "id": "SNkEIzziRFZY"
      }
    },
    {
      "cell_type": "code",
      "source": [
        "from sklearn.inspection import permutation_importance\n",
        "import numpy as np\n",
        "import matplotlib.pyplot as plt\n",
        "\n",
        "perm_importance_list = []\n",
        "\n",
        "# 10-szer meghívjuk a permutation_importance függvényt\n",
        "for _ in range(10):\n",
        "    perm_importance = permutation_importance(svc_best, X_test, y_test)\n",
        "    perm_importance_list.append(perm_importance)\n",
        "\n",
        "importances_means = [perm_importance.importances_mean for perm_importance in perm_importance_list]\n",
        "\n",
        "# Vesszük a 10 menetnek az átlagát\n",
        "average_importance = np.mean(importances_means, axis=0)\n",
        "\n",
        "feature_names = X.columns.to_list()\n",
        "features = np.array(feature_names)\n",
        "\n",
        "sorted_idx = average_importance.argsort()\n",
        "plt.barh(features[sorted_idx], average_importance[sorted_idx])\n",
        "plt.xlabel(\"Permutation Importance\")"
      ],
      "metadata": {
        "colab": {
          "base_uri": "https://localhost:8080/",
          "height": 466
        },
        "id": "giGPzS02RFgk",
        "outputId": "903fed05-febb-445a-bf7d-f13b5c6407b4"
      },
      "execution_count": 8,
      "outputs": [
        {
          "output_type": "execute_result",
          "data": {
            "text/plain": [
              "Text(0.5, 0, 'Permutation Importance')"
            ]
          },
          "metadata": {},
          "execution_count": 8
        },
        {
          "output_type": "display_data",
          "data": {
            "text/plain": [
              "<Figure size 640x480 with 1 Axes>"
            ],
            "image/png": "[encoded data removed]"
          },
          "metadata": {}
        }
      ]
    }
  ]
}